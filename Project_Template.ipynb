{
 "cells": [
  {
   "cell_type": "markdown",
   "metadata": {},
   "source": [
    "![Title](logo1.png)"
   ]
  },
  {
   "cell_type": "markdown",
   "metadata": {},
   "source": [
    "<font color='blue'> \n",
    "    \n",
    "### College of Computer Science and Engineering \n",
    "####  The 2nd programming competition /  2022 – 1438 \n",
    "#### Python for Data Analysis)   \n",
    "</font>\n",
    "\n",
    "\n",
    "    "
   ]
  },
  {
   "cell_type": "markdown",
   "metadata": {},
   "source": [
    "  <font color=' green'>   \n",
    "    \n",
    "كلية علوم وهندسة الحاسب الالي\n",
    "    \n",
    "المسابقة البرمجية الثانية لتحليل البيانات باستخدام لغة البايثون \n",
    "    \n",
    "\n",
    "</font> \n",
    "    \n",
    "\n",
    "    "
   ]
  },
  {
   "cell_type": "markdown",
   "metadata": {},
   "source": [
    " <br> \n",
    " \n",
    " <br>"
   ]
  },
  {
   "cell_type": "markdown",
   "metadata": {},
   "source": [
    "\n",
    "\n",
    "<img src=\"giphy.gif\" style=\"width: 500px;\"/>\n"
   ]
  },
  {
   "cell_type": "markdown",
   "metadata": {},
   "source": [
    "---"
   ]
  },
  {
   "cell_type": "markdown",
   "metadata": {},
   "source": [
    "#### Gruop Names:\n",
    "\n",
    "##### 1 ) Studnt_Names_______________ Studnt ID _______________ \n",
    "##### 2 ) Studnt_Names_______________ Studnt ID _______________ \n",
    "##### 3 ) Studnt_Names_______________ Studnt ID _______________ \n",
    "-----"
   ]
  },
  {
   "cell_type": "markdown",
   "metadata": {},
   "source": [
    "**Note**\n",
    "\n",
    "<blockquote>\n",
    "    \n",
    "<font color='red'>This is a comptetion <b>template</b> , you can use it for your competition project submission, once you finish you then can save it as ** html/pdf ** template to send it to \n",
    "</font> \n",
    "    \n",
    "tajrees@uhb.edu.sa\n",
    "\n",
    "by the end of TODAY\n",
    "    \n",
    "</blockquote>"
   ]
  },
  {
   "cell_type": "markdown",
   "metadata": {},
   "source": [
    "\n"
   ]
  },
  {
   "cell_type": "markdown",
   "metadata": {},
   "source": [
    "<blockquote>\n",
    "    \n",
    "<img src=\"sub.png\" align='left'  style=\"width: 350px;\"/>\n",
    "    \n",
    " </blockquote>"
   ]
  },
  {
   "cell_type": "markdown",
   "metadata": {},
   "source": [
    "<blockquote>\n",
    "\n",
    "This template  was made available to help you to get started, <b>HOWEVER</b>, adding your unique work will lead to obtain higher score such as :\n",
    "\n",
    "<ul>\n",
    "<li>Exaplin your data very well </li>\n",
    "<li>adding subtitle for each step </li>\n",
    "<li> adding descrition for each steps before the code </li>\n",
    "<li> adding comment to each codes</li>\n",
    "<li> explain your outcome </li>\n",
    "<li> adding more statsic desciptives for your data</li>\n",
    "<li> using more visualtaions</li>\n",
    "<li> clean and orginse codes </li>\n",
    "<li> clean and orginse presentation</li>\n",
    "<li> creativities </li>\n",
    "<li> adding summary at the end of your project </li>\n",
    " \n",
    "\n",
    "\n",
    "\n",
    "</ul>\n",
    "\n",
    "***please make sure you read the project instruction \n",
    "    \n",
    "</lockquote>"
   ]
  },
  {
   "cell_type": "markdown",
   "metadata": {},
   "source": [
    "---"
   ]
  },
  {
   "cell_type": "markdown",
   "metadata": {},
   "source": [
    "# Data project foldere \n",
    "\n",
    "<b>You can install this template and the dataset availabe at </b> :\n",
    "\n",
    "https://uhbksa.sharepoint.com/:f:/s/CSE_Competition_Feb2022/EgPJ3M10LnpHoXqUwyUmsG4ByMhtP5WkJnBPekgbpx_5_g?e=SeLMD4"
   ]
  },
  {
   "cell_type": "markdown",
   "metadata": {},
   "source": [
    "---"
   ]
  },
  {
   "cell_type": "markdown",
   "metadata": {},
   "source": [
    "# Project Question (Main Goal ) "
   ]
  },
  {
   "cell_type": "markdown",
   "metadata": {},
   "source": [
    "<font color='green'>\n",
    "    \n",
    "#### The problem that we are going to solve here is that given a dataset that describe a house in famouse city, your chosen machine learning algorthims must predict the house price. \n",
    "\n",
    "</font>\n",
    "\n"
   ]
  },
  {
   "cell_type": "markdown",
   "metadata": {},
   "source": [
    "<img src=\"data-analytics-project-1.gif\"/>"
   ]
  },
  {
   "cell_type": "markdown",
   "metadata": {},
   "source": [
    "## project outcome (deliverable ) : \n",
    "\n",
    "- your project outcome must include in your project the follwing  :\n",
    "<ol>   \n",
    "<li> Data exploration (observation) include data descriptions, info, view the head ..etc </li>\n",
    "<li> Data cleaning if needed </li>\n",
    "<li> Data visualatisatioin </li>\n",
    "<li> Data correlation </li>\n",
    "<li> The machine algorthims stage [ such as train our machine learning model using sciki-tlearn’s boston dataset.}\n",
    "<li> Conclusion of your team work (Summary outcome)</li>\n",
    "      \n",
    "     \n",
    "</ol>"
   ]
  },
  {
   "cell_type": "markdown",
   "metadata": {},
   "source": [
    "----"
   ]
  },
  {
   "cell_type": "markdown",
   "metadata": {},
   "source": [
    "---"
   ]
  },
  {
   "cell_type": "markdown",
   "metadata": {},
   "source": [
    "## Import library"
   ]
  },
  {
   "cell_type": "code",
   "execution_count": 2,
   "metadata": {},
   "outputs": [],
   "source": [
    "import pandas as pd\n",
    "import numpy as np\n",
    "import matplotlib.pyplot as plt\n",
    "# pip install seaborn \n",
    "import seaborn as sns\n",
    "import matplotlib.pyplot as plt\n",
    "%config InlineBackend.figure_format = 'retina'\n",
    "from sklearn.datasets import load_boston"
   ]
  },
  {
   "cell_type": "markdown",
   "metadata": {},
   "source": [
    "### Data observaition "
   ]
  },
  {
   "cell_type": "markdown",
   "metadata": {},
   "source": [
    "\n",
    "<img src=\"bar.gif\" style=\"width: 300px;\"/>"
   ]
  },
  {
   "cell_type": "markdown",
   "metadata": {},
   "source": [
    "**Example 1 **\n",
    "\n",
    "Step 1 : \n",
    "    \n",
    "    \n",
    "read my data using the follwing script :"
   ]
  },
  {
   "cell_type": "code",
   "execution_count": 3,
   "metadata": {},
   "outputs": [],
   "source": [
    "data = pd.read_csv('clean_data.csv')"
   ]
  },
  {
   "cell_type": "markdown",
   "metadata": {},
   "source": [
    "**Example 2 **\n",
    "\n",
    "Step 2 : \n",
    "    \n",
    "    \n",
    "view the first 5 rows of the data using data.head():"
   ]
  },
  {
   "cell_type": "code",
   "execution_count": 4,
   "metadata": {
    "scrolled": true
   },
   "outputs": [
    {
     "data": {
      "text/html": [
       "<div>\n",
       "<style scoped>\n",
       "    .dataframe tbody tr th:only-of-type {\n",
       "        vertical-align: middle;\n",
       "    }\n",
       "\n",
       "    .dataframe tbody tr th {\n",
       "        vertical-align: top;\n",
       "    }\n",
       "\n",
       "    .dataframe thead th {\n",
       "        text-align: right;\n",
       "    }\n",
       "</style>\n",
       "<table border=\"1\" class=\"dataframe\">\n",
       "  <thead>\n",
       "    <tr style=\"text-align: right;\">\n",
       "      <th></th>\n",
       "      <th>CRIM</th>\n",
       "      <th>ZN</th>\n",
       "      <th>INDUS</th>\n",
       "      <th>CHAS</th>\n",
       "      <th>NOX</th>\n",
       "      <th>RM</th>\n",
       "      <th>AGE</th>\n",
       "      <th>DIS</th>\n",
       "      <th>RAD</th>\n",
       "      <th>TAX</th>\n",
       "      <th>PTRATIO</th>\n",
       "      <th>B</th>\n",
       "      <th>LSTAT</th>\n",
       "      <th>PRICE</th>\n",
       "    </tr>\n",
       "  </thead>\n",
       "  <tbody>\n",
       "    <tr>\n",
       "      <th>0</th>\n",
       "      <td>0.00632</td>\n",
       "      <td>18.0</td>\n",
       "      <td>2.31</td>\n",
       "      <td>0</td>\n",
       "      <td>0.538</td>\n",
       "      <td>6.575</td>\n",
       "      <td>65.2</td>\n",
       "      <td>4.0900</td>\n",
       "      <td>1</td>\n",
       "      <td>296</td>\n",
       "      <td>15.3</td>\n",
       "      <td>396.90</td>\n",
       "      <td>4.98</td>\n",
       "      <td>24.0</td>\n",
       "    </tr>\n",
       "    <tr>\n",
       "      <th>1</th>\n",
       "      <td>0.02731</td>\n",
       "      <td>0.0</td>\n",
       "      <td>7.07</td>\n",
       "      <td>0</td>\n",
       "      <td>0.469</td>\n",
       "      <td>6.421</td>\n",
       "      <td>78.9</td>\n",
       "      <td>4.9671</td>\n",
       "      <td>2</td>\n",
       "      <td>242</td>\n",
       "      <td>17.8</td>\n",
       "      <td>396.90</td>\n",
       "      <td>9.14</td>\n",
       "      <td>21.6</td>\n",
       "    </tr>\n",
       "    <tr>\n",
       "      <th>2</th>\n",
       "      <td>0.02729</td>\n",
       "      <td>0.0</td>\n",
       "      <td>7.07</td>\n",
       "      <td>0</td>\n",
       "      <td>0.469</td>\n",
       "      <td>7.185</td>\n",
       "      <td>61.1</td>\n",
       "      <td>4.9671</td>\n",
       "      <td>2</td>\n",
       "      <td>242</td>\n",
       "      <td>17.8</td>\n",
       "      <td>392.83</td>\n",
       "      <td>4.03</td>\n",
       "      <td>34.7</td>\n",
       "    </tr>\n",
       "    <tr>\n",
       "      <th>3</th>\n",
       "      <td>0.03237</td>\n",
       "      <td>0.0</td>\n",
       "      <td>2.18</td>\n",
       "      <td>0</td>\n",
       "      <td>0.458</td>\n",
       "      <td>6.998</td>\n",
       "      <td>45.8</td>\n",
       "      <td>6.0622</td>\n",
       "      <td>3</td>\n",
       "      <td>222</td>\n",
       "      <td>18.7</td>\n",
       "      <td>394.63</td>\n",
       "      <td>2.94</td>\n",
       "      <td>33.4</td>\n",
       "    </tr>\n",
       "    <tr>\n",
       "      <th>4</th>\n",
       "      <td>0.06905</td>\n",
       "      <td>0.0</td>\n",
       "      <td>2.18</td>\n",
       "      <td>0</td>\n",
       "      <td>0.458</td>\n",
       "      <td>7.147</td>\n",
       "      <td>54.2</td>\n",
       "      <td>6.0622</td>\n",
       "      <td>3</td>\n",
       "      <td>222</td>\n",
       "      <td>18.7</td>\n",
       "      <td>396.90</td>\n",
       "      <td>5.33</td>\n",
       "      <td>36.2</td>\n",
       "    </tr>\n",
       "  </tbody>\n",
       "</table>\n",
       "</div>"
      ],
      "text/plain": [
       "      CRIM    ZN  INDUS  CHAS    NOX     RM   AGE     DIS  RAD  TAX  PTRATIO  \\\n",
       "0  0.00632  18.0   2.31     0  0.538  6.575  65.2  4.0900    1  296     15.3   \n",
       "1  0.02731   0.0   7.07     0  0.469  6.421  78.9  4.9671    2  242     17.8   \n",
       "2  0.02729   0.0   7.07     0  0.469  7.185  61.1  4.9671    2  242     17.8   \n",
       "3  0.03237   0.0   2.18     0  0.458  6.998  45.8  6.0622    3  222     18.7   \n",
       "4  0.06905   0.0   2.18     0  0.458  7.147  54.2  6.0622    3  222     18.7   \n",
       "\n",
       "        B  LSTAT  PRICE  \n",
       "0  396.90   4.98   24.0  \n",
       "1  396.90   9.14   21.6  \n",
       "2  392.83   4.03   34.7  \n",
       "3  394.63   2.94   33.4  \n",
       "4  396.90   5.33   36.2  "
      ]
     },
     "execution_count": 4,
     "metadata": {},
     "output_type": "execute_result"
    }
   ],
   "source": [
    "data.head()"
   ]
  },
  {
   "cell_type": "markdown",
   "metadata": {},
   "source": [
    "### Data description :\n",
    "\n",
    "In this dataset, each row describes a town or village. There are 506 rows and 13 attributes (features) with a target column (price)."
   ]
  },
  {
   "cell_type": "markdown",
   "metadata": {},
   "source": [
    "<ul>\n",
    "\n",
    "<li>Number of Instances: 506</li>\n",
    "\n",
    "<li>Missing Attribute Values:  None.</li>\n",
    " \n",
    "<li>Attribute Information: </li>\n",
    "</ul>"
   ]
  },
  {
   "cell_type": "markdown",
   "metadata": {},
   "source": [
    "    a. CRIM      per capita crime rate by town -  معدل الجريمة للفرد حسب المدينة\n",
    "\n",
    "\n",
    "    b. ZN        proportion of residential land zoned for lots over 25,000 sq.ft. -   نسبة الأراضي السكنية المخصصة لقطع أكثر من 25000 قدم مربع.\n",
    "      \n",
    "    c. INDUS     proportion of non-retail business acres per town-  نسبة فدادين الأعمال غير التجزئة لكل مدينة\n",
    "    \n",
    "    d. CHAS      Charles River dummy variable (= 1 if tract bounds river; 0 otherwise) -    1 إذا كان المسالك يحد النهر\n",
    "\n",
    "    e. NOX       nitric oxides concentration (parts per 10 million)- تركيز أكاسيد النيتريك (أجزاء لكل 10 مليون)\n",
    "\n",
    "    f. RM        average number of rooms per dwelling -  متوسط  عدد الغرف لكل مسكن\n",
    "\n",
    "    g. AGE       proportion of owner-occupied units built prior to 1940-  نسبة الوحدات التي يشغلها مالكوها والتي بنيت قبل عام \n",
    "   \n",
    "    h. DIS       weighted distances to five employment centres-  مسافات مرجحة لخمسة مراكز توظيف   \n",
    "\n",
    "    i. RAD       index of accessibility to radial highways-  مؤشر إمكانية الوصول إلى الطرق السريعة القطرية\n",
    " \n",
    "    j. TAX      full-value property-tax rate per ( dollar 10,000 ) -  معدل ضريبة الممتلكات بالقيمة الكاملة لكل (10000 دولار)\n",
    "    \n",
    "    k. PTRATIO  pupil-teacher ratio by town-   نسبة التلاميذ إلى المدرسين PTRATIO حسب المدينة\n",
    "\n",
    "    l. B        1000 (Bk - 0.63) ^ 2 where Bk is the proportion of blacks  by town -  - Bk هي نسبة السود حسب المدينة\n",
    "   \n",
    "   m. LSTAT    % lower status of the population-  مكانة أقل من السكان\n",
    "\n",
    "    n. MEDV     Median value of owner-occupied homes in  dollar 1000's-  القيمة المتوسطة للمنازل التي يشغلها مالكوها في 1000 دولار\n",
    "\n",
    "\n",
    " "
   ]
  },
  {
   "cell_type": "markdown",
   "metadata": {},
   "source": [
    "explainig the **output** (step2) :\n",
    "\n",
    "As we can see we have ... "
   ]
  },
  {
   "cell_type": "markdown",
   "metadata": {},
   "source": [
    "**Example 3 **\n",
    "\n",
    "Step 3 : \n",
    "    \n",
    "    \n",
    "view the data shape using \n",
    "\n",
    "```Python\n",
    "print(data.shape)\n",
    "```"
   ]
  },
  {
   "cell_type": "code",
   "execution_count": 5,
   "metadata": {
    "scrolled": true
   },
   "outputs": [
    {
     "name": "stdout",
     "output_type": "stream",
     "text": [
      "(506, 14)\n"
     ]
    }
   ],
   "source": [
    "print(data.shape)"
   ]
  },
  {
   "cell_type": "markdown",
   "metadata": {},
   "source": [
    "explainig the **output** (step3) :\n",
    "\n",
    "As we can see we have ... \n",
    "\n",
    "as we see the data shape is 506 row and  14 colmns (varibles )"
   ]
  },
  {
   "cell_type": "markdown",
   "metadata": {},
   "source": [
    "----"
   ]
  },
  {
   "cell_type": "code",
   "execution_count": null,
   "metadata": {},
   "outputs": [],
   "source": [
    "# think of other data observation codes \n",
    "# Viewing the data statistics  (also explain the output )\n",
    "# Finding out the correlation between the features (also explain the output )# print(data.columns)\n",
    "# print(data.info())\n",
    "\n",
    "#  data.columns"
   ]
  },
  {
   "cell_type": "markdown",
   "metadata": {},
   "source": [
    "### Explaning the method :\n",
    "data.info() print information about dataframe."
   ]
  },
  {
   "cell_type": "code",
   "execution_count": 23,
   "metadata": {},
   "outputs": [
    {
     "name": "stdout",
     "output_type": "stream",
     "text": [
      "<class 'pandas.core.frame.DataFrame'>\n",
      "RangeIndex: 506 entries, 0 to 505\n",
      "Data columns (total 14 columns):\n",
      " #   Column   Non-Null Count  Dtype  \n",
      "---  ------   --------------  -----  \n",
      " 0   CRIM     506 non-null    float64\n",
      " 1   ZN       506 non-null    float64\n",
      " 2   INDUS    506 non-null    float64\n",
      " 3   CHAS     506 non-null    int64  \n",
      " 4   NOX      506 non-null    float64\n",
      " 5   RM       506 non-null    float64\n",
      " 6   AGE      506 non-null    float64\n",
      " 7   DIS      506 non-null    float64\n",
      " 8   RAD      506 non-null    int64  \n",
      " 9   TAX      506 non-null    int64  \n",
      " 10  PTRATIO  506 non-null    float64\n",
      " 11  B        506 non-null    float64\n",
      " 12  LSTAT    506 non-null    float64\n",
      " 13  PRICE    506 non-null    float64\n",
      "dtypes: float64(11), int64(3)\n",
      "memory usage: 55.5 KB\n"
     ]
    }
   ],
   "source": [
    "data.info()"
   ]
  },
  {
   "cell_type": "markdown",
   "metadata": {},
   "source": [
    "### Explaning the output:\n",
    "the output of the method is shows informations that contains: \n",
    "- the number of columns \n",
    "- column labels\n",
    "- column data types\n",
    "- memory usage \n",
    "- range index \n",
    "- number of cells in each column \"non-null values\""
   ]
  },
  {
   "cell_type": "markdown",
   "metadata": {},
   "source": [
    "### Explaning the method:\n",
    "This method to just show the column and row"
   ]
  },
  {
   "cell_type": "code",
   "execution_count": 25,
   "metadata": {},
   "outputs": [
    {
     "data": {
      "text/plain": [
       "(506, 14)"
      ]
     },
     "execution_count": 25,
     "metadata": {},
     "output_type": "execute_result"
    }
   ],
   "source": [
    "data.shape"
   ]
  },
  {
   "cell_type": "markdown",
   "metadata": {},
   "source": [
    "### Explaning the output:\n",
    "It shows tuple give the "
   ]
  },
  {
   "cell_type": "markdown",
   "metadata": {},
   "source": [
    "### Data cleaning \n"
   ]
  },
  {
   "cell_type": "markdown",
   "metadata": {},
   "source": [
    " we check if there is any missing data for all columns"
   ]
  },
  {
   "cell_type": "code",
   "execution_count": 22,
   "metadata": {},
   "outputs": [
    {
     "data": {
      "text/plain": [
       "CRIM       False\n",
       "ZN         False\n",
       "INDUS      False\n",
       "CHAS       False\n",
       "NOX        False\n",
       "RM         False\n",
       "AGE        False\n",
       "DIS        False\n",
       "RAD        False\n",
       "TAX        False\n",
       "PTRATIO    False\n",
       "B          False\n",
       "LSTAT      False\n",
       "PRICE      False\n",
       "dtype: bool"
      ]
     },
     "execution_count": 22,
     "metadata": {},
     "output_type": "execute_result"
    }
   ],
   "source": [
    "# Also Think of :\n",
    "# Check for missing values \n",
    "# See rows with missing values  (also explain the output )\n",
    "\n",
    "data.isnull().all()\n"
   ]
  },
  {
   "cell_type": "markdown",
   "metadata": {},
   "source": [
    "### Explaning the output \n",
    "\n",
    "the output shows the column and if it is any null in every column\n",
    "As we see, there are not any missing data "
   ]
  },
  {
   "cell_type": "markdown",
   "metadata": {},
   "source": [
    "# # Data "
   ]
  },
  {
   "cell_type": "markdown",
   "metadata": {},
   "source": [
    "### Data Visualizing\n"
   ]
  },
  {
   "cell_type": "markdown",
   "metadata": {},
   "source": [
    "<img src=\"data-world-circle.gif\" style=\"width: 400px;\"/>\n"
   ]
  },
  {
   "cell_type": "code",
   "execution_count": null,
   "metadata": {},
   "outputs": [],
   "source": [
    "# Plotting the heatmap of correlation between features\n"
   ]
  },
  {
   "cell_type": "code",
   "execution_count": 30,
   "metadata": {
    "scrolled": true
   },
   "outputs": [
    {
     "data": {
      "text/plain": [
       "(14, 14)"
      ]
     },
     "execution_count": 30,
     "metadata": {},
     "output_type": "execute_result"
    }
   ],
   "source": [
    "# using Finding out the correlation between the features\n"
   ]
  },
  {
   "cell_type": "code",
   "execution_count": null,
   "metadata": {},
   "outputs": [],
   "source": [
    "# Visualizing the differences between actual prices and predicted values"
   ]
  },
  {
   "cell_type": "code",
   "execution_count": null,
   "metadata": {},
   "outputs": [],
   "source": []
  },
  {
   "cell_type": "markdown",
   "metadata": {},
   "source": [
    "### Algorthims \n",
    "\n",
    "(such as  Linear regression)\n",
    "\n",
    "<img src=\"cat.gif\" style=\"width: 400px;\"/>"
   ]
  },
  {
   "cell_type": "markdown",
   "metadata": {},
   "source": [
    "**remember** that :\n",
    "\n",
    "The machine learning model that you planing to use is very great if you can use it to predict the house price. \n",
    "\n",
    "first to To train our machine learning model with the housing data, we will be using **scikit-learn’s ** dataset.\n",
    "\n",
    "you can strat for example to use Linear regressor  and to Create a Linear Regression you need to import this from sklearn.linear_model import LinearRegression and then  use =  Create a Linear regressor\n",
    "example :  \n",
    "lm = LinearRegression()\n",
    "\n",
    "you can split your data to train the model using the training sets (remember how we did it in the last 3 sessions) example : \n",
    "\n",
    "lm.fit(X_train, y_train)\n",
    "\n",
    "\n",
    "then you can build your Model prediction on train data example :\n",
    "\n",
    "y_pred = lm.predict(X_train)\n"
   ]
  },
  {
   "cell_type": "code",
   "execution_count": null,
   "metadata": {},
   "outputs": [],
   "source": []
  },
  {
   "cell_type": "code",
   "execution_count": null,
   "metadata": {},
   "outputs": [],
   "source": [
    "# Spliting target variable and independent variables\n"
   ]
  },
  {
   "cell_type": "code",
   "execution_count": null,
   "metadata": {},
   "outputs": [],
   "source": [
    "# Splitting to training and testing data\n"
   ]
  },
  {
   "cell_type": "code",
   "execution_count": null,
   "metadata": {},
   "outputs": [],
   "source": []
  },
  {
   "cell_type": "markdown",
   "metadata": {},
   "source": [
    "### Model Evaluation"
   ]
  },
  {
   "cell_type": "code",
   "execution_count": null,
   "metadata": {},
   "outputs": [],
   "source": [
    "# Model Evaluation\n",
    "# Model prediction on train data\n",
    " "
   ]
  },
  {
   "cell_type": "code",
   "execution_count": null,
   "metadata": {},
   "outputs": [],
   "source": []
  },
  {
   "cell_type": "markdown",
   "metadata": {},
   "source": [
    "**remember** also that :\n",
    "\n",
    "you can use Visualizition to explain your module "
   ]
  },
  {
   "cell_type": "code",
   "execution_count": null,
   "metadata": {},
   "outputs": [],
   "source": [
    "# Visualizing the differences between actual prices and predicted values"
   ]
  },
  {
   "cell_type": "code",
   "execution_count": null,
   "metadata": {},
   "outputs": [],
   "source": []
  },
  {
   "cell_type": "code",
   "execution_count": null,
   "metadata": {},
   "outputs": [],
   "source": []
  },
  {
   "cell_type": "code",
   "execution_count": 19,
   "metadata": {},
   "outputs": [],
   "source": [
    "# to save the output of your data use :\n",
    "data_write = data.to_csv('clean_data.csv')"
   ]
  },
  {
   "cell_type": "markdown",
   "metadata": {},
   "source": [
    "![Title](best.gif)"
   ]
  },
  {
   "cell_type": "markdown",
   "metadata": {},
   "source": [
    "![Title](logo1.png)"
   ]
  },
  {
   "cell_type": "code",
   "execution_count": null,
   "metadata": {},
   "outputs": [],
   "source": []
  }
 ],
 "metadata": {
  "kernelspec": {
   "display_name": "Python 3 (ipykernel)",
   "language": "python",
   "name": "python3"
  },
  "language_info": {
   "codemirror_mode": {
    "name": "ipython",
    "version": 3
   },
   "file_extension": ".py",
   "mimetype": "text/x-python",
   "name": "python",
   "nbconvert_exporter": "python",
   "pygments_lexer": "ipython3",
   "version": "3.9.7"
  }
 },
 "nbformat": 4,
 "nbformat_minor": 4
}
